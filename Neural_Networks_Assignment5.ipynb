{
  "nbformat": 4,
  "nbformat_minor": 0,
  "metadata": {
    "colab": {
      "provenance": []
    },
    "kernelspec": {
      "name": "python3",
      "display_name": "Python 3"
    },
    "language_info": {
      "name": "python"
    }
  },
  "cells": [
    {
      "cell_type": "code",
      "execution_count": 1,
      "metadata": {
        "colab": {
          "base_uri": "https://localhost:8080/"
        },
        "id": "l7-2ZuBpumV1",
        "outputId": "ea96bde4-693d-4ecd-9424-cdb5fab8e46f"
      },
      "outputs": [
        {
          "output_type": "stream",
          "name": "stdout",
          "text": [
            "Accuracy: 0.5538461538461539\n",
            "Classification Report:\n",
            "               precision    recall  f1-score   support\n",
            "\n",
            "           1       0.47      0.85      0.61        20\n",
            "           2       0.57      0.15      0.24        26\n",
            "           3       0.00      0.00      0.00         1\n",
            "           5       0.40      0.50      0.44         4\n",
            "           6       1.00      0.67      0.80         3\n",
            "           7       0.79      1.00      0.88        11\n",
            "\n",
            "    accuracy                           0.55        65\n",
            "   macro avg       0.54      0.53      0.50        65\n",
            "weighted avg       0.58      0.55      0.50        65\n",
            "\n"
          ]
        }
      ],
      "source": [
        "import pandas as pd\n",
        "from sklearn.model_selection import train_test_split\n",
        "from sklearn.naive_bayes import GaussianNB\n",
        "from sklearn.metrics import classification_report, accuracy_score\n",
        "\n",
        "# Load the glass dataset\n",
        "glass = pd.read_csv(\"glass.csv\")\n",
        "\n",
        "# Split the dataset into features and target\n",
        "X = glass.iloc[:, :-1]\n",
        "y = glass.iloc[:, -1]\n",
        "\n",
        "# Split the dataset into training and testing parts\n",
        "X_train, X_test, y_train, y_test = train_test_split(X, y, test_size=0.3, random_state=4)\n",
        "\n",
        "# Fit the Naive Bayes model on the training data\n",
        "gnb = GaussianNB()\n",
        "gnb.fit(X_train, y_train)\n",
        "\n",
        "# Predict the target on the test data\n",
        "y_pred = gnb.predict(X_test)\n",
        "\n",
        "# Evaluate the model on the test data\n",
        "print(\"Accuracy:\", accuracy_score(y_test, y_pred))\n",
        "print(\"Classification Report:\\n\", classification_report(y_test, y_pred))"
      ]
    },
    {
      "cell_type": "code",
      "source": [
        "import pandas as pd\n",
        "from sklearn.model_selection import train_test_split\n",
        "from sklearn import svm\n",
        "from sklearn.metrics import classification_report, accuracy_score\n",
        "\n",
        "# Load the glass dataset\n",
        "glass = pd.read_csv(\"glass.csv\")\n",
        "\n",
        "# Split the dataset into features and target\n",
        "X = glass.iloc[:, :-1]\n",
        "y = glass.iloc[:, -1]\n",
        "\n",
        "# Split the dataset into training and testing parts\n",
        "X_train, X_test, y_train, y_test = train_test_split(X, y, test_size=0.4, random_state=4)\n",
        "\n",
        "# Fit the linear SVM model on the training data\n",
        "svm_linear = svm.SVC(kernel='linear')\n",
        "svm_linear.fit(X_train, y_train)\n",
        "\n",
        "# Predict the target on the test data\n",
        "y_pred = svm_linear.predict(X_test)\n",
        "\n",
        "# Evaluate the model on the test data\n",
        "print(\"Accuracy:\", accuracy_score(y_test, y_pred))\n",
        "print(\"Classification Report:\\n\", classification_report(y_test, y_pred))"
      ],
      "metadata": {
        "colab": {
          "base_uri": "https://localhost:8080/"
        },
        "id": "WmMhtlLMxsFi",
        "outputId": "15887fb7-c09a-4b4a-d1d4-3b9171578214"
      },
      "execution_count": 2,
      "outputs": [
        {
          "output_type": "stream",
          "name": "stdout",
          "text": [
            "Accuracy: 0.6744186046511628\n",
            "Classification Report:\n",
            "               precision    recall  f1-score   support\n",
            "\n",
            "           1       0.62      0.74      0.68        27\n",
            "           2       0.71      0.65      0.68        34\n",
            "           3       0.00      0.00      0.00         4\n",
            "           5       0.50      0.43      0.46         7\n",
            "           6       1.00      0.67      0.80         3\n",
            "           7       0.73      1.00      0.85        11\n",
            "\n",
            "    accuracy                           0.67        86\n",
            "   macro avg       0.59      0.58      0.58        86\n",
            "weighted avg       0.65      0.67      0.65        86\n",
            "\n"
          ]
        },
        {
          "output_type": "stream",
          "name": "stderr",
          "text": [
            "/usr/local/lib/python3.10/dist-packages/sklearn/metrics/_classification.py:1344: UndefinedMetricWarning: Precision and F-score are ill-defined and being set to 0.0 in labels with no predicted samples. Use `zero_division` parameter to control this behavior.\n",
            "  _warn_prf(average, modifier, msg_start, len(result))\n",
            "/usr/local/lib/python3.10/dist-packages/sklearn/metrics/_classification.py:1344: UndefinedMetricWarning: Precision and F-score are ill-defined and being set to 0.0 in labels with no predicted samples. Use `zero_division` parameter to control this behavior.\n",
            "  _warn_prf(average, modifier, msg_start, len(result))\n",
            "/usr/local/lib/python3.10/dist-packages/sklearn/metrics/_classification.py:1344: UndefinedMetricWarning: Precision and F-score are ill-defined and being set to 0.0 in labels with no predicted samples. Use `zero_division` parameter to control this behavior.\n",
            "  _warn_prf(average, modifier, msg_start, len(result))\n"
          ]
        }
      ]
    }
  ]
}